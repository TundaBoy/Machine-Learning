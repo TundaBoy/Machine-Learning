{
  "nbformat": 4,
  "nbformat_minor": 0,
  "metadata": {
    "colab": {
      "provenance": [],
      "authorship_tag": "ABX9TyMVgVxsYmEP9yPn5ch+mVNi",
      "include_colab_link": true
    },
    "kernelspec": {
      "name": "python3",
      "display_name": "Python 3"
    },
    "language_info": {
      "name": "python"
    }
  },
  "cells": [
    {
      "cell_type": "markdown",
      "metadata": {
        "id": "view-in-github",
        "colab_type": "text"
      },
      "source": [
        "<a href=\"https://colab.research.google.com/github/TundaBoy/Machine-Learning/blob/main/SVM_2.ipynb\" target=\"_parent\"><img src=\"https://colab.research.google.com/assets/colab-badge.svg\" alt=\"Open In Colab\"/></a>"
      ]
    },
    {
      "cell_type": "code",
      "execution_count": 1,
      "metadata": {
        "colab": {
          "base_uri": "https://localhost:8080/"
        },
        "id": "Qkjs_KVjHJMf",
        "outputId": "0fccfa38-f6e1-44c5-dcf6-ffa2f2c124ec"
      },
      "outputs": [
        {
          "output_type": "stream",
          "name": "stdout",
          "text": [
            "Confusion Matrix:\n",
            "[[39  4]\n",
            " [ 1 70]]\n",
            "Accuracy: 0.96\n",
            "Precision: 0.95\n",
            "Recall: 0.99\n",
            "F1 Score: 0.97\n"
          ]
        }
      ],
      "source": [
        "# Classification of Breast Cancer Dataset using SVM\n",
        "from sklearn.datasets import load_breast_cancer\n",
        "from sklearn.model_selection import train_test_split\n",
        "from sklearn.svm import SVC\n",
        "from sklearn.metrics import confusion_matrix, accuracy_score, precision_score, recall_score, f1_score\n",
        "\n",
        "# Load the dataset\n",
        "data = load_breast_cancer()\n",
        "x = data.data\n",
        "y = data.target\n",
        "\n",
        "# Split data into training and test sets\n",
        "x_train, x_test, y_train, y_test = train_test_split(x, y, test_size=0.2, random_state=42)\n",
        "\n",
        "# Train a Support Vector Machine classifier with a linear kernel\n",
        "svm = SVC(kernel='linear')  # Using a linear kernel\n",
        "svm.fit(x_train, y_train)\n",
        "\n",
        "# Make predictions\n",
        "y_pred_svm = svm.predict(x_test)\n",
        "\n",
        "# Evaluate model\n",
        "conf_matrix = confusion_matrix(y_test, y_pred_svm)\n",
        "accuracy_svm = accuracy_score(y_test, y_pred_svm)\n",
        "precision_svm = precision_score(y_test, y_pred_svm)\n",
        "recall_svm = recall_score(y_test, y_pred_svm)\n",
        "f1_svm = f1_score(y_test, y_pred_svm)\n",
        "\n",
        "# Print evaluation metrics\n",
        "print(\"Confusion Matrix:\")\n",
        "print(conf_matrix)\n",
        "print(f\"Accuracy: {accuracy_svm:.2f}\")\n",
        "print(f\"Precision: {precision_svm:.2f}\")\n",
        "print(f\"Recall: {recall_svm:.2f}\")\n",
        "print(f\"F1 Score: {f1_svm:.2f}\")"
      ]
    }
  ]
}