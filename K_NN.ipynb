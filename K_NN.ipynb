{
  "nbformat": 4,
  "nbformat_minor": 0,
  "metadata": {
    "colab": {
      "provenance": [],
      "authorship_tag": "ABX9TyOoer/wxnhtZmHg5St22rZn",
      "include_colab_link": true
    },
    "kernelspec": {
      "name": "python3",
      "display_name": "Python 3"
    },
    "language_info": {
      "name": "python"
    }
  },
  "cells": [
    {
      "cell_type": "markdown",
      "metadata": {
        "id": "view-in-github",
        "colab_type": "text"
      },
      "source": [
        "<a href=\"https://colab.research.google.com/github/TundaBoy/Machine-Learning/blob/main/K_NN.ipynb\" target=\"_parent\"><img src=\"https://colab.research.google.com/assets/colab-badge.svg\" alt=\"Open In Colab\"/></a>"
      ]
    },
    {
      "cell_type": "code",
      "execution_count": 2,
      "metadata": {
        "colab": {
          "base_uri": "https://localhost:8080/"
        },
        "id": "ySm5NMp7BYtL",
        "outputId": "9e33da08-2459-43c2-c5e6-9a156f1065d8"
      },
      "outputs": [
        {
          "output_type": "stream",
          "name": "stdout",
          "text": [
            "K-NN Accuracy: 1.00\n"
          ]
        }
      ],
      "source": [
        "#classification of Iris Flower  Dataset\n",
        "from sklearn.datasets import load_iris\n",
        "from sklearn.model_selection import train_test_split\n",
        "from sklearn.neighbors import KNeighborsClassifier\n",
        "from sklearn.metrics import accuracy_score\n",
        "\n",
        "#load the dataset\n",
        "data=load_iris()\n",
        "x=data.data\n",
        "y=data.target\n",
        "#split data into training and test\n",
        "x_train, x_test, y_train, y_test=train_test_split(x, y, test_size=0.2, random_state=42)\n",
        "#train a Decision Tree classifier\n",
        "knn =KNeighborsClassifier(n_neighbors=3)\n",
        "knn.fit(x_train, y_train)\n",
        "#make predections\n",
        "y_pred_knn= knn.predict(x_test)\n",
        "#evaluate model\n",
        "accuracy_knn= accuracy_score(y_test, y_pred_knn)\n",
        "print(f\"K-NN Accuracy: {accuracy_knn:.2f}\")\n"
      ]
    }
  ]
}