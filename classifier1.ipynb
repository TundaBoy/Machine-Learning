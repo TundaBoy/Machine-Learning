{
  "nbformat": 4,
  "nbformat_minor": 0,
  "metadata": {
    "colab": {
      "provenance": [],
      "authorship_tag": "ABX9TyNnaYXIB/rVOpcOYHDxNcgV",
      "include_colab_link": true
    },
    "kernelspec": {
      "name": "python3",
      "display_name": "Python 3"
    },
    "language_info": {
      "name": "python"
    }
  },
  "cells": [
    {
      "cell_type": "markdown",
      "metadata": {
        "id": "view-in-github",
        "colab_type": "text"
      },
      "source": [
        "<a href=\"https://colab.research.google.com/github/TundaBoy/Machine-Learning/blob/main/classifier1.ipynb\" target=\"_parent\"><img src=\"https://colab.research.google.com/assets/colab-badge.svg\" alt=\"Open In Colab\"/></a>"
      ]
    },
    {
      "cell_type": "code",
      "execution_count": 1,
      "metadata": {
        "colab": {
          "base_uri": "https://localhost:8080/"
        },
        "id": "xQOxrCtUpSXM",
        "outputId": "b64a6ae4-932a-40e2-dcb1-5baad9665663"
      },
      "outputs": [
        {
          "output_type": "stream",
          "name": "stdout",
          "text": [
            "Accuracy: 1.00\n"
          ]
        }
      ],
      "source": [
        "#classification of Iris Flower  Dataset\n",
        "from sklearn.datasets import load_iris\n",
        "from sklearn.model_selection import train_test_split\n",
        "from sklearn.ensemble import RandomForestClassifier\n",
        "from sklearn.metrics import accuracy_score\n",
        "\n",
        "#load the dataset\n",
        "data=load_iris()\n",
        "x=data.data\n",
        "y=data.target\n",
        "#split data into training and test\n",
        "x_train, x_test, y_train, y_test=train_test_split(x, y, test_size=0.2, random_state=42)\n",
        "#train a RandomForest classifier\n",
        "clf=RandomForestClassifier(random_state=42)\n",
        "clf.fit(x_train, y_train)\n",
        "#make predections\n",
        "y_pred= clf.predict(x_test)\n",
        "#evaluate model\n",
        "accuracy=accuracy_score(y_test, y_pred)\n",
        "print(f\"Accuracy: {accuracy:.2f}\")"
      ]
    },
    {
      "cell_type": "code",
      "source": [],
      "metadata": {
        "id": "cG6SlPvQpVjO"
      },
      "execution_count": null,
      "outputs": []
    }
  ]
}