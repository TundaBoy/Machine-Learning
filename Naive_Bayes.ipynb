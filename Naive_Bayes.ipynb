{
  "nbformat": 4,
  "nbformat_minor": 0,
  "metadata": {
    "colab": {
      "provenance": [],
      "authorship_tag": "ABX9TyN7Q9PLw/aJyltpR7rsvp/r",
      "include_colab_link": true
    },
    "kernelspec": {
      "name": "python3",
      "display_name": "Python 3"
    },
    "language_info": {
      "name": "python"
    }
  },
  "cells": [
    {
      "cell_type": "markdown",
      "metadata": {
        "id": "view-in-github",
        "colab_type": "text"
      },
      "source": [
        "<a href=\"https://colab.research.google.com/github/TundaBoy/Machine-Learning/blob/main/Naive_Bayes.ipynb\" target=\"_parent\"><img src=\"https://colab.research.google.com/assets/colab-badge.svg\" alt=\"Open In Colab\"/></a>"
      ]
    },
    {
      "cell_type": "code",
      "execution_count": 2,
      "metadata": {
        "id": "u1rXYGCf7J4g",
        "colab": {
          "base_uri": "https://localhost:8080/"
        },
        "outputId": "04b686bc-878e-46c2-95fa-606aac565c82"
      },
      "outputs": [
        {
          "output_type": "stream",
          "name": "stdout",
          "text": [
            "Naive Bayes Accuracy: 1.00\n"
          ]
        }
      ],
      "source": [
        "#classification of Iris Flower  Dataset\n",
        "from sklearn.datasets import load_iris\n",
        "from sklearn.model_selection import train_test_split\n",
        "from sklearn.naive_bayes import GaussianNB\n",
        "from sklearn.metrics import accuracy_score\n",
        "\n",
        "#load the dataset\n",
        "data=load_iris()\n",
        "x=data.data\n",
        "y=data.target\n",
        "#split data into training and test\n",
        "x_train, x_test, y_train, y_test=train_test_split(x, y, test_size=0.2, random_state=42)\n",
        "#train a Decision Tree classifier\n",
        "nb =GaussianNB()\n",
        "nb.fit(x_train, y_train)\n",
        "#make predections\n",
        "y_pred_nb= nb.predict(x_test)\n",
        "#evaluate model\n",
        "accuracy_nb= accuracy_score(y_test, y_pred_nb)\n",
        "print(f\"Naive Bayes Accuracy: {accuracy_nb:.2f}\")"
      ]
    }
  ]
}